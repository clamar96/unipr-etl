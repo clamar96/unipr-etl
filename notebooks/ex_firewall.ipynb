{
 "cells": [
  {
   "cell_type": "code",
   "execution_count": null,
   "id": "d21bef59-8bdb-48b2-8167-f29cb728dedb",
   "metadata": {},
   "outputs": [],
   "source": [
    "from pyspark.sql import SparkSession\n",
    "from pyspark.sql.functions import col"
   ]
  },
  {
   "cell_type": "code",
   "execution_count": null,
   "id": "2789ff3f-8531-4584-b27d-f67be2bd19fb",
   "metadata": {},
   "outputs": [],
   "source": [
    "spark = (\n",
    "    SparkSession\n",
    "    .builder\n",
    "    .getOrCreate()\n",
    ")"
   ]
  },
  {
   "cell_type": "markdown",
   "id": "1a0c8165-d4b9-459c-84c5-98a142a4976f",
   "metadata": {},
   "source": [
    "Lettura del dataset"
   ]
  },
  {
   "cell_type": "code",
   "execution_count": null,
   "id": "e1d9a42a-aebd-4ec3-9047-0c97e8fa6f48",
   "metadata": {},
   "outputs": [],
   "source": [
    "csv_path = \"./data/firewall.csv\""
   ]
  },
  {
   "cell_type": "markdown",
   "id": "858af7bc-735c-4724-8e8e-e5b50a62e2ba",
   "metadata": {},
   "source": [
    "Visualizzazione dello schema del dataframe"
   ]
  },
  {
   "cell_type": "markdown",
   "id": "0643f79f-4e1b-4950-ac14-c34d511ceb8c",
   "metadata": {},
   "source": [
    "Visualizzazione delle prime 10 righe"
   ]
  },
  {
   "cell_type": "markdown",
   "id": "b69a6729-29b9-426a-8167-9eab0b1e5421",
   "metadata": {},
   "source": [
    "Contare le istanze del dataframe"
   ]
  },
  {
   "cell_type": "markdown",
   "id": "8046220f-4c9d-4db2-a059-b716618b54db",
   "metadata": {},
   "source": [
    "Selezionare un sottoinsieme delle istanze"
   ]
  },
  {
   "cell_type": "markdown",
   "id": "cd162bd8-d11d-4338-aa16-85cc92563860",
   "metadata": {},
   "source": [
    "Aggiungere due nuove colonne che registrino il traffico medio (byte size) degli scambi"
   ]
  }
 ],
 "metadata": {
  "kernelspec": {
   "display_name": "Python 3.10.4 64-bit",
   "language": "python",
   "name": "python3"
  },
  "language_info": {
   "codemirror_mode": {
    "name": "ipython",
    "version": 3
   },
   "file_extension": ".py",
   "mimetype": "text/x-python",
   "name": "python",
   "nbconvert_exporter": "python",
   "pygments_lexer": "ipython3",
   "version": "3.10.4"
  },
  "vscode": {
   "interpreter": {
    "hash": "96e610693e9886bf0fcd1c66f96f451f3e0a25a705507a6a8baeb3cef0b80a05"
   }
  }
 },
 "nbformat": 4,
 "nbformat_minor": 5
}
