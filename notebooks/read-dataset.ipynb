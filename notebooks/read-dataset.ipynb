{
 "cells": [
  {
   "cell_type": "code",
   "execution_count": 1,
   "id": "f9f7fa5f",
   "metadata": {},
   "outputs": [],
   "source": [
    "from pyspark.sql import SparkSession\n",
    "from pyspark import SparkConf"
   ]
  },
  {
   "cell_type": "code",
   "execution_count": 2,
   "id": "7e254a59",
   "metadata": {},
   "outputs": [],
   "source": [
    "spark = SparkSession.builder \\\n",
    "    .appName(\"Jupyter PySpark App\") \\\n",
    "    .config(\"spark.hadoop.fs.s3a.impl\", \"org.apache.hadoop.fs.s3a.S3AFileSystem\") \\\n",
    "    .config(\"spark.hadoop.fs.s3a.aws.credentials.provider\", \"org.apache.hadoop.fs.s3a.AnonymousAWSCredentialsProvider\") \\\n",
    "    .config(\"spark.hadoop.fs.s3a.path.style.access\", True) \\\n",
    "    .getOrCreate()"
   ]
  },
  {
   "cell_type": "code",
   "execution_count": 3,
   "id": "0fa9a330-062a-488d-96bc-bec1fe2bf2ec",
   "metadata": {},
   "outputs": [
    {
     "data": {
      "text/plain": [
       "[('spark.hadoop.fs.s3a.impl', 'org.apache.hadoop.fs.s3a.S3AFileSystem'),\n",
       " ('spark.hadoop.fs.s3a.path.style.access', 'True'),\n",
       " ('spark.app.submitTime', '1664960733781'),\n",
       " ('spark.master', 'local[*]'),\n",
       " ('spark.submit.pyFiles', ''),\n",
       " ('spark.submit.deployMode', 'client'),\n",
       " ('spark.ui.showConsoleProgress', 'true'),\n",
       " ('spark.app.name', 'Jupyter PySpark App'),\n",
       " ('spark.hadoop.fs.s3a.aws.credentials.provider',\n",
       "  'org.apache.hadoop.fs.s3a.AnonymousAWSCredentialsProvider')]"
      ]
     },
     "execution_count": 3,
     "metadata": {},
     "output_type": "execute_result"
    }
   ],
   "source": [
    "SparkConf().getAll()"
   ]
  },
  {
   "cell_type": "code",
   "execution_count": 15,
   "id": "8dd01878-abf1-40ce-8308-119870d14fc6",
   "metadata": {},
   "outputs": [
    {
     "name": "stdout",
     "output_type": "stream",
     "text": [
      "+---------------+---+-----+----+---+---------------+--------------------+--------------------+--------------------+----------+-----+--------+-------+----+-----+\n",
      "|            _c0|_c1|  _c2| _c3|_c4|            _c5|                 _c6|                 _c7|                 _c8|       _c9| _c10|    _c11|   _c12|_c13| _c14|\n",
      "+---------------+---+-----+----+---+---------------+--------------------+--------------------+--------------------+----------+-----+--------+-------+----+-----+\n",
      "|        Wynyard|  3|µg/m³|pm25| AU|Tasmania Region|Australia - Tasmania|2017-09-01T23:54:...|2017-09-02T09:54:...|government|false|-40.9918|145.719|0.25|hours|\n",
      "|        Wynyard| 11|µg/m³|pm10| AU|Tasmania Region|Australia - Tasmania|2017-09-01T23:54:...|2017-09-02T09:54:...|government|false|-40.9918|145.719|0.25|hours|\n",
      "|      Emu River|  1|µg/m³|pm25| AU|Tasmania Region|Australia - Tasmania|2017-09-01T23:54:...|2017-09-02T09:54:...|government|false|-41.1081|145.883|0.25|hours|\n",
      "|      Emu River| 12|µg/m³|pm10| AU|Tasmania Region|Australia - Tasmania|2017-09-01T23:54:...|2017-09-02T09:54:...|government|false|-41.1081|145.883|0.25|hours|\n",
      "|West Ulverstone|  3|µg/m³|pm25| AU|Tasmania Region|Australia - Tasmania|2017-09-01T23:54:...|2017-09-02T09:54:...|government|false|-41.1586|146.146|0.25|hours|\n",
      "+---------------+---+-----+----+---+---------------+--------------------+--------------------+--------------------+----------+-----+--------+-------+----+-----+\n",
      "only showing top 5 rows\n",
      "\n"
     ]
    }
   ],
   "source": [
    "s3path = \"s3a://openaq-fetches/daily\"\n",
    "df = spark.read.csv(s3path, header=False)\n",
    "df.show(5)"
   ]
  },
  {
   "cell_type": "code",
   "execution_count": 16,
   "id": "82fb1889-5ff4-4ec2-b15f-a4970a4dcebb",
   "metadata": {},
   "outputs": [
    {
     "data": {
      "text/plain": [
       "14356999"
      ]
     },
     "execution_count": 16,
     "metadata": {},
     "output_type": "execute_result"
    }
   ],
   "source": [
    "df.count()"
   ]
  },
  {
   "cell_type": "code",
   "execution_count": null,
   "id": "465b1abc-0320-4741-b0cb-ee6caecb5af8",
   "metadata": {},
   "outputs": [],
   "source": []
  }
 ],
 "metadata": {
  "kernelspec": {
   "display_name": "Python 3 (ipykernel)",
   "language": "python",
   "name": "python3"
  },
  "language_info": {
   "codemirror_mode": {
    "name": "ipython",
    "version": 3
   },
   "file_extension": ".py",
   "mimetype": "text/x-python",
   "name": "python",
   "nbconvert_exporter": "python",
   "pygments_lexer": "ipython3",
   "version": "3.10.6"
  }
 },
 "nbformat": 4,
 "nbformat_minor": 5
}
