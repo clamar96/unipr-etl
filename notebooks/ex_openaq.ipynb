{
 "cells": [
  {
   "cell_type": "code",
   "execution_count": null,
   "id": "f9f7fa5f",
   "metadata": {},
   "outputs": [],
   "source": [
    "from pyspark.sql import SparkSession\n",
    "from pyspark.sql.functions import col"
   ]
  },
  {
   "cell_type": "code",
   "execution_count": null,
   "id": "7e254a59",
   "metadata": {},
   "outputs": [],
   "source": [
    "spark = (SparkSession.builder \n",
    "    .appName(\"Jupyter PySpark App\") \n",
    "    .config(\"spark.hadoop.fs.s3a.impl\", \"org.apache.hadoop.fs.s3a.S3AFileSystem\") \n",
    "    .config(\"spark.hadoop.fs.s3a.aws.credentials.provider\", \"org.apache.hadoop.fs.s3a.AnonymousAWSCredentialsProvider\") \n",
    "    .config(\"spark.hadoop.fs.s3a.path.style.access\", True) \n",
    "    .getOrCreate()\n",
    ")"
   ]
  },
  {
   "cell_type": "code",
   "execution_count": null,
   "id": "8dd01878-abf1-40ce-8308-119870d14fc6",
   "metadata": {},
   "outputs": [],
   "source": [
    "s3path = \"s3a://openaq-fetches/daily/2017-08-11.csv\""
   ]
  },
  {
   "cell_type": "code",
   "execution_count": null,
   "id": "82fb1889-5ff4-4ec2-b15f-a4970a4dcebb",
   "metadata": {},
   "outputs": [],
   "source": [
    "df = spark.read.csv(s3path, header=False)"
   ]
  },
  {
   "cell_type": "markdown",
   "id": "39e2c2bf-684c-4070-af88-958ee5634285",
   "metadata": {},
   "source": [
    "Mostrare lo schema e le prime 10 istanze"
   ]
  },
  {
   "cell_type": "markdown",
   "id": "89d8a609-fe35-4306-8906-1172c7c0ee73",
   "metadata": {},
   "source": [
    "Rinominare le colonne in modo che ad esse siano associati dei nomi significativi ed eliminare eventualmente alcune colonne"
   ]
  },
  {
   "cell_type": "markdown",
   "id": "617931c4-486c-476c-bdcf-eec7add4f5ad",
   "metadata": {},
   "source": [
    "Selezionare solo le istanze con country code \"IT\""
   ]
  }
 ],
 "metadata": {
  "kernelspec": {
   "display_name": "Python 3 (ipykernel)",
   "language": "python",
   "name": "python3"
  },
  "language_info": {
   "codemirror_mode": {
    "name": "ipython",
    "version": 3
   },
   "file_extension": ".py",
   "mimetype": "text/x-python",
   "name": "python",
   "nbconvert_exporter": "python",
   "pygments_lexer": "ipython3",
   "version": "3.10.6"
  }
 },
 "nbformat": 4,
 "nbformat_minor": 5
}
